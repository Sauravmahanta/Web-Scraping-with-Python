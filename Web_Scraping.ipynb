{
 "cells": [
  {
   "cell_type": "markdown",
   "id": "2e6091b6-8903-4653-aea0-db67ea105884",
   "metadata": {},
   "source": [
    "# **Web Scraping** "
   ]
  },
  {
   "cell_type": "markdown",
   "id": "34da955d-d1c9-4d3d-81f6-0fcaf1e74139",
   "metadata": {},
   "source": [
    " \r\n",
    "Web scraping is an automatic method to obtain large amounts of data from websites  \n",
    "Most of this data is unstructured data in an HTML format which is then converted into structured data in a spreadsheet or a database so that it can be used in various applications.  "
   ]
  },
  {
   "cell_type": "markdown",
   "id": "2174151c-9bb0-40c9-a079-b91163de968a",
   "metadata": {},
   "source": [
    "Web scraping requires two parts, namely the crawler and the scraper.  \n",
    "Web Crawler:also known as a spider or bot, is a program that systematically browses the internet, following links from one page to another.  \n",
    "It means it opens all the links in a website and stores in database.\n",
    "Web Scraper: A web scraper is a tool or program specifically designed to extract information from web pages. Unlike crawlers, which focus on discovering and indexing pages, scrapers are used to extract specific data from one or more pages.  "
   ]
  },
  {
   "cell_type": "markdown",
   "id": "1c17b375-3bda-4d74-8f8b-61aad48c24c1",
   "metadata": {},
   "source": [
    "**Types of Web Scraper:**  \n",
    "Self-built web scraper, Pre-built web scraper, browser extension web scraper, software web scraper, cloud web scraper  "
   ]
  },
  {
   "cell_type": "markdown",
   "id": "e0293f26-3106-4573-a2bd-34f501979f13",
   "metadata": {},
   "source": [
    "**Imp. Python libraries for web scraping:**  \n",
    "Scrapy, Beautifulsoup, Selenium  \n",
    " "
   ]
  },
  {
   "cell_type": "markdown",
   "id": "d6175d83-8489-4190-b34a-118999bf76dc",
   "metadata": {},
   "source": [
    "**Components of web scraping**  \n",
    "1. HTTP Requests: It  involves sending an HTTP request to the target website's server to retrieve the content of the page.  \n",
    "2. HTML Parsing:  \n",
    "Once the content of the webpage is retrieved, the next step is to parse the HTML to locate and extract the desired information.  \n",
    "Tools like BeautifulSoup (Python) is used to parse and manipulate the HTML content.\n",
    "3. Data Extraction:  \n",
    "Data extraction involves identifying the specific HTML elements that contain the data you want and then extracting that data.\n",
    "4. Handling Dynamic Content:  \n",
    "Many modern websites load content dynamically using JavaScript, which can complicate scraping efforts.\n",
    "5. Data Storage:  \n",
    "After extracting the necessary data, it must be stored in a structured format like  CSV, JSON, or XML for further use.\n",
    "6. Rate Limiting and Throttling:  \n",
    "To avoid overloading the target server and triggering anti-scraping mechanisms, it’s important to control the frequency of requests.\n",
    "7. Legal and Ethical Considerations:  \n",
    "Web scraping must be done within the bounds of legality and ethical guidelines.  \n",
    "Robots.txt: This file provides guidelines about which parts of the site can be accessed by web crawlers.  \n"
   ]
  },
  {
   "cell_type": "code",
   "execution_count": 38,
   "id": "3ab0671f-adf6-4d48-9049-f3bfd29c0d3a",
   "metadata": {},
   "outputs": [],
   "source": [
    "# install request and beautifulsoup"
   ]
  },
  {
   "cell_type": "code",
   "execution_count": 39,
   "id": "6c3f8a91-8df5-4598-b1e8-62ae3f32e97b",
   "metadata": {},
   "outputs": [],
   "source": [
    "import requests"
   ]
  },
  {
   "cell_type": "code",
   "execution_count": 40,
   "id": "4e7ba63a-c23e-4636-8790-19e78435fc62",
   "metadata": {},
   "outputs": [
    {
     "name": "stdout",
     "output_type": "stream",
     "text": [
      "<Response [200]>\n"
     ]
    }
   ],
   "source": [
    "webpage= requests.get('https://webscraper.io/test-sites/e-commerce/allinone/computers/tablets')\n",
    "print(webpage)"
   ]
  },
  {
   "cell_type": "markdown",
   "id": "213651b3-363c-4344-9d61-7ff012e99db8",
   "metadata": {},
   "source": [
    "HTTP Status Codes: three-digit codes that indicate the result of the HTTP request. They are categorized into five classes:  \n",
    "1. Informational Responses (100–199)  \n",
    "2. Successful Responses (200–299):\n",
    "3. Redirection Responses (300–399):\n",
    "4. Client Error Responses (400–499):  \n",
    "5. Server Error Responses (500–599):  "
   ]
  },
  {
   "cell_type": "code",
   "execution_count": 41,
   "id": "80013e93-c3a9-4fd6-8118-e631e2049ca0",
   "metadata": {},
   "outputs": [
    {
     "data": {
      "text/plain": [
       "'https://webscraper.io/test-sites/e-commerce/allinone/computers/tablets'"
      ]
     },
     "execution_count": 41,
     "metadata": {},
     "output_type": "execute_result"
    }
   ],
   "source": [
    "webpage.url"
   ]
  },
  {
   "cell_type": "code",
   "execution_count": 42,
   "id": "952953fb-da7d-4763-ba7f-a40f5f17a489",
   "metadata": {},
   "outputs": [
    {
     "data": {
      "text/plain": [
       "200"
      ]
     },
     "execution_count": 42,
     "metadata": {},
     "output_type": "execute_result"
    }
   ],
   "source": [
    "webpage.status_code"
   ]
  },
  {
   "cell_type": "markdown",
   "id": "212aa51d-4d0c-4d76-8dc4-0ff83efd4eed",
   "metadata": {},
   "source": [
    "# **HTML Parsing**"
   ]
  },
  {
   "cell_type": "code",
   "execution_count": 43,
   "id": "f32b8be5-36b6-48c0-8807-3003920fed32",
   "metadata": {},
   "outputs": [],
   "source": [
    "from bs4 import BeautifulSoup"
   ]
  },
  {
   "cell_type": "code",
   "execution_count": 44,
   "id": "7515811f-574b-40e3-85b1-310b94cf2901",
   "metadata": {},
   "outputs": [],
   "source": [
    "# webpage.content"
   ]
  },
  {
   "cell_type": "markdown",
   "id": "73432d4c-b45a-4591-904f-12ca6666d40c",
   "metadata": {},
   "source": [
    "**NOTE:**    \n",
    "Things are not clear here as the content is in text format. \n",
    "So, we will convert the content into prettify format(html format) so that we can extract the data."
   ]
  },
  {
   "cell_type": "code",
   "execution_count": 8,
   "id": "937f2302-918c-491a-a4f9-5827bd2115d1",
   "metadata": {},
   "outputs": [],
   "source": [
    "soup=BeautifulSoup(webpage.content,\"html.parser\")"
   ]
  },
  {
   "cell_type": "code",
   "execution_count": 45,
   "id": "2b34c82c-041d-4f24-b2fa-5dc0f1d0f47a",
   "metadata": {},
   "outputs": [],
   "source": [
    "# print(soup.prettify())"
   ]
  },
  {
   "cell_type": "code",
   "execution_count": 10,
   "id": "917cb4cd-d094-4042-8a27-3183f71af588",
   "metadata": {},
   "outputs": [],
   "source": [
    "# print(soup.body.prettify())"
   ]
  },
  {
   "cell_type": "code",
   "execution_count": 46,
   "id": "725e55a5-5619-4a5d-aa2c-c41a36c10b3d",
   "metadata": {},
   "outputs": [
    {
     "data": {
      "text/plain": [
       "<title>Allinone | Web Scraper Test Sites</title>"
      ]
     },
     "execution_count": 46,
     "metadata": {},
     "output_type": "execute_result"
    }
   ],
   "source": [
    "soup.title"
   ]
  },
  {
   "cell_type": "code",
   "execution_count": 47,
   "id": "e9b59ad0-87cd-49f8-a2cf-5154e08d65c5",
   "metadata": {},
   "outputs": [
    {
     "data": {
      "text/plain": [
       "<p>Web Scraper</p>"
      ]
     },
     "execution_count": 47,
     "metadata": {},
     "output_type": "execute_result"
    }
   ],
   "source": [
    "soup.p #Returns the 1st paragraph tag"
   ]
  },
  {
   "cell_type": "code",
   "execution_count": 48,
   "id": "2bc6c437-bb48-464c-be41-c85048f854fa",
   "metadata": {},
   "outputs": [
    {
     "data": {
      "text/plain": [
       "<a data-bs-target=\".side-collapse\" data-bs-target-2=\".side-collapse-container\" data-bs-toggle=\"collapse-side\">\n",
       "<button aria-controls=\"navbar\" aria-expanded=\"false\" class=\"navbar-toggler float-end collapsed\" data-bs-target=\"#navbar\" data-bs-target-2=\".side-collapse-container\" data-bs-target-3=\".side-collapse\" data-bs-toggle=\"collapse\" type=\"button\">\n",
       "<span class=\"visually-hidden\">Toggle navigation</span>\n",
       "<span class=\"icon-bar top-bar\"></span>\n",
       "<span class=\"icon-bar middle-bar\"></span>\n",
       "<span class=\"icon-bar bottom-bar\"></span>\n",
       "<span class=\"icon-bar extra-bottom-bar\"></span>\n",
       "</button>\n",
       "</a>"
      ]
     },
     "execution_count": 48,
     "metadata": {},
     "output_type": "execute_result"
    }
   ],
   "source": [
    "soup.a #Returns the 1st anchor tag"
   ]
  },
  {
   "cell_type": "markdown",
   "id": "36d61bce-7b4c-4b66-aa53-a793bcb068ec",
   "metadata": {},
   "source": [
    "# **Kinds of Objects**  \n",
    "1. Tag\n",
    "2. NavigableString\n",
    "3. BeautifulSoup\n",
    "4. Comments"
   ]
  },
  {
   "cell_type": "markdown",
   "id": "67851bcc-92db-4c9a-8239-3fde9cdfe17d",
   "metadata": {},
   "source": [
    "## Tag"
   ]
  },
  {
   "cell_type": "code",
   "execution_count": 49,
   "id": "4f374f98-5678-4004-b27c-72615871956b",
   "metadata": {},
   "outputs": [],
   "source": [
    "tag=soup.html"
   ]
  },
  {
   "cell_type": "code",
   "execution_count": 50,
   "id": "0d4d6e78-bdc8-455a-b16c-cbf94c9765f3",
   "metadata": {},
   "outputs": [
    {
     "data": {
      "text/plain": [
       "bs4.element.Tag"
      ]
     },
     "execution_count": 50,
     "metadata": {},
     "output_type": "execute_result"
    }
   ],
   "source": [
    "type(tag)"
   ]
  },
  {
   "cell_type": "code",
   "execution_count": 51,
   "id": "b570cb25-46e9-4fb7-827d-6a5118d52a04",
   "metadata": {},
   "outputs": [
    {
     "data": {
      "text/plain": [
       "<p>Web Scraper</p>"
      ]
     },
     "execution_count": 51,
     "metadata": {},
     "output_type": "execute_result"
    }
   ],
   "source": [
    "tag=soup.p\n",
    "tag"
   ]
  },
  {
   "cell_type": "code",
   "execution_count": 52,
   "id": "cd20f875-b662-4461-afa1-9b37cfb0b968",
   "metadata": {},
   "outputs": [
    {
     "data": {
      "text/plain": [
       "<a data-bs-target=\".side-collapse\" data-bs-target-2=\".side-collapse-container\" data-bs-toggle=\"collapse-side\">\n",
       "<button aria-controls=\"navbar\" aria-expanded=\"false\" class=\"navbar-toggler float-end collapsed\" data-bs-target=\"#navbar\" data-bs-target-2=\".side-collapse-container\" data-bs-target-3=\".side-collapse\" data-bs-toggle=\"collapse\" type=\"button\">\n",
       "<span class=\"visually-hidden\">Toggle navigation</span>\n",
       "<span class=\"icon-bar top-bar\"></span>\n",
       "<span class=\"icon-bar middle-bar\"></span>\n",
       "<span class=\"icon-bar bottom-bar\"></span>\n",
       "<span class=\"icon-bar extra-bottom-bar\"></span>\n",
       "</button>\n",
       "</a>"
      ]
     },
     "execution_count": 52,
     "metadata": {},
     "output_type": "execute_result"
    }
   ],
   "source": [
    "tag=soup.a\n",
    "tag"
   ]
  },
  {
   "cell_type": "markdown",
   "id": "62f242bd-a1dc-4a9e-bdf9-907aa64c1137",
   "metadata": {},
   "source": [
    "## NavigableString"
   ]
  },
  {
   "cell_type": "code",
   "execution_count": 53,
   "id": "a24f235d-81ed-410a-bacc-f809d4c55fa0",
   "metadata": {},
   "outputs": [
    {
     "data": {
      "text/plain": [
       "'Web Scraper'"
      ]
     },
     "execution_count": 53,
     "metadata": {},
     "output_type": "execute_result"
    }
   ],
   "source": [
    "tag=soup.p.string\n",
    "tag"
   ]
  },
  {
   "cell_type": "markdown",
   "id": "5f2a3961-1f15-401c-b119-40507c6469cd",
   "metadata": {},
   "source": [
    "## BeautifulSoup"
   ]
  },
  {
   "cell_type": "code",
   "execution_count": 55,
   "id": "6e6a7d6b-02e0-4b8b-944b-b77a388f0a74",
   "metadata": {},
   "outputs": [
    {
     "data": {
      "text/plain": [
       "<title>Allinone | Web Scraper Test Sites</title>"
      ]
     },
     "execution_count": 55,
     "metadata": {},
     "output_type": "execute_result"
    }
   ],
   "source": [
    "soup.title"
   ]
  },
  {
   "cell_type": "code",
   "execution_count": 56,
   "id": "d3ef2788-8787-4dba-b6c3-1248f2d14b26",
   "metadata": {},
   "outputs": [
    {
     "data": {
      "text/plain": [
       "<head>\n",
       "<!-- Google Tag Manager -->\n",
       "<script>(function (w, d, s, l, i) {\n",
       "\t\tw[l] = w[l] || [];\n",
       "\t\tw[l].push({\n",
       "\t\t\t'gtm.start':\n",
       "\t\t\t\tnew Date().getTime(), event: 'gtm.js'\n",
       "\t\t});\n",
       "\t\tvar f = d.getElementsByTagName(s)[0],\n",
       "\t\t\tj = d.createElement(s), dl = l != 'dataLayer' ? '&l=' + l : '';\n",
       "\t\tj.async = true;\n",
       "\t\tj.src =\n",
       "\t\t\t'https://www.googletagmanager.com/gtm.js?id=' + i + dl;\n",
       "\t\tf.parentNode.insertBefore(j, f);\n",
       "\t})(window, document, 'script', 'dataLayer', 'GTM-NVFPDWB');</script>\n",
       "<!-- End Google Tag Manager -->\n",
       "<title>Allinone | Web Scraper Test Sites</title>\n",
       "<meta charset=\"utf-8\"/>\n",
       "<meta content=\"IE=edge,chrome=1\" http-equiv=\"X-UA-Compatible\"/>\n",
       "<meta content=\"web scraping,Web Scraper,Chrome extension,Crawling,Cross platform scraper\" name=\"keywords\"/>\n",
       "<meta content=\"The most popular web scraping extension. Start scraping in minutes. Automate your tasks with our Cloud Scraper. No software to download, no coding needed.\" name=\"description\"/>\n",
       "<link href=\"/favicon.png\" rel=\"icon\" sizes=\"128x128\"/>\n",
       "<meta content=\"width=device-width, initial-scale=1.0\" name=\"viewport\"/>\n",
       "<link href=\"https://fonts.googleapis.com\" rel=\"preconnect\"/>\n",
       "<link crossorigin=\"\" href=\"https://fonts.gstatic.com\" rel=\"preconnect\"/>\n",
       "<link href=\"https://fonts.googleapis.com/css2?family=Roboto:wght@400;500;600&amp;display=swap\" rel=\"stylesheet\"/>\n",
       "<link href=\"https://fonts.googleapis.com/css2?family=Montserrat:wght@300;400;500;600;700;900&amp;display=swap\" rel=\"stylesheet\"/>\n",
       "<link href=\"/css/app.css?id=bfb97107b0e835336e8aa42d73a7c526\" rel=\"stylesheet\"/>\n",
       "<link href=\"/css/ws-icons.font.css?id=8f2c6b77e3c33bbc1183eeae2ae24269\" rel=\"stylesheet\"/>\n",
       "<link href=\"https://webscraper.io/test-sites/e-commerce/allinone/computers/tablets\" rel=\"canonical\"/>\n",
       "<link href=\"/img/logo-icon.png\" rel=\"apple-touch-icon\"/>\n",
       "<script defer=\"\" src=\"/js/app.js?id=bc804a98cdd5595f6a7cb0be663155f8\"></script>\n",
       "</head>"
      ]
     },
     "execution_count": 56,
     "metadata": {},
     "output_type": "execute_result"
    }
   ],
   "source": [
    "soup.head"
   ]
  },
  {
   "cell_type": "code",
   "execution_count": 60,
   "id": "e5f90dd0-578f-44d2-ba6b-b58d39d0a54d",
   "metadata": {},
   "outputs": [],
   "source": [
    "# soup.body"
   ]
  },
  {
   "cell_type": "code",
   "execution_count": 61,
   "id": "511a8c71-52c8-4992-a604-950da918adee",
   "metadata": {},
   "outputs": [
    {
     "data": {
      "text/plain": [
       "<h1>Test Sites</h1>"
      ]
     },
     "execution_count": 61,
     "metadata": {},
     "output_type": "execute_result"
    }
   ],
   "source": [
    "soup.find(\"h1\")"
   ]
  },
  {
   "cell_type": "code",
   "execution_count": 62,
   "id": "2ce47918-7573-4aae-86dd-dd11683020f8",
   "metadata": {},
   "outputs": [
    {
     "data": {
      "text/plain": [
       "[<h1>Test Sites</h1>, <h1 class=\"page-header\">Computers / Tablets</h1>]"
      ]
     },
     "execution_count": 62,
     "metadata": {},
     "output_type": "execute_result"
    }
   ],
   "source": [
    "soup.find_all(\"h1\")"
   ]
  },
  {
   "cell_type": "markdown",
   "id": "f0319a8d-374b-4fc3-9229-0276d2774a24",
   "metadata": {},
   "source": [
    "## Comments"
   ]
  },
  {
   "cell_type": "code",
   "execution_count": 63,
   "id": "bbb9f967-950f-436d-a637-ae9fb7e8d566",
   "metadata": {},
   "outputs": [
    {
     "data": {
      "text/plain": [
       "'Web Scraper'"
      ]
     },
     "execution_count": 63,
     "metadata": {},
     "output_type": "execute_result"
    }
   ],
   "source": [
    "com=soup.p.string\n",
    "com"
   ]
  },
  {
   "cell_type": "code",
   "execution_count": 65,
   "id": "92628bb4-f831-4c65-80a6-5eced82b35b9",
   "metadata": {},
   "outputs": [
    {
     "data": {
      "text/plain": [
       "'Test Sites'"
      ]
     },
     "execution_count": 65,
     "metadata": {},
     "output_type": "execute_result"
    }
   ],
   "source": [
    "com=soup.h1.string\n",
    "com"
   ]
  },
  {
   "cell_type": "markdown",
   "id": "f2d74910-644e-4c00-817e-44abb557560d",
   "metadata": {},
   "source": [
    "# **Implementation**"
   ]
  },
  {
   "cell_type": "code",
   "execution_count": 66,
   "id": "fbb63f62-e335-4668-8281-502ba6613a02",
   "metadata": {},
   "outputs": [],
   "source": [
    "import pandas as pd\n",
    "import requests\n",
    "from bs4 import BeautifulSoup\n",
    "import numpy as np"
   ]
  },
  {
   "cell_type": "markdown",
   "id": "a2943c3c-f630-4d2f-a5a9-5532eae4d9e6",
   "metadata": {},
   "source": [
    "Reference Video: https://www.youtube.com/watch?v=1DGTRnrvPpo&list=PLjVLYmrlmjGfSYkgH-_jgC8KMxyRzq7US&index=4"
   ]
  },
  {
   "cell_type": "code",
   "execution_count": 67,
   "id": "38395ec9-3eac-4efc-b75a-ff01f4b05965",
   "metadata": {},
   "outputs": [
    {
     "data": {
      "text/plain": [
       "<Response [200]>"
      ]
     },
     "execution_count": 67,
     "metadata": {},
     "output_type": "execute_result"
    }
   ],
   "source": [
    "webpage=requests.get('https://webscraper.io/test-sites/e-commerce/allinone/computers/tablets')\n",
    "webpage"
   ]
  },
  {
   "cell_type": "markdown",
   "id": "c4316c18-2aa8-4f20-b933-1af48bc28f39",
   "metadata": {},
   "source": [
    "if response code is 403:  \r\n",
    "headers={'User-Agent':'Mozilla/5.0 (Windows NT 6.3; Win 64 ; x64) Apple WeKit /537.36(KHTML , like Gecko) Chrome/80.0.3987.162 Safari/537.36'} -requests.get('url',headers=headers).text"
   ]
  },
  {
   "cell_type": "code",
   "execution_count": 68,
   "id": "e9369d54-8d0e-47a1-870b-bb0ce50d6395",
   "metadata": {},
   "outputs": [],
   "source": [
    "soup=BeautifulSoup(webpage.text,'lxml')\n"
   ]
  },
  {
   "cell_type": "code",
   "execution_count": 69,
   "id": "0eeed6b7-71fa-4444-b573-dbe5ce98104e",
   "metadata": {},
   "outputs": [],
   "source": [
    "# soup.prettify()"
   ]
  },
  {
   "cell_type": "code",
   "execution_count": 71,
   "id": "f56ee6fa-d010-4bfe-9d3d-39a5ec62dfdc",
   "metadata": {
    "scrolled": true
   },
   "outputs": [
    {
     "data": {
      "text/plain": [
       "21"
      ]
     },
     "execution_count": 71,
     "metadata": {},
     "output_type": "execute_result"
    }
   ],
   "source": [
    "tablets= soup.find_all('div', class_='col-md-4 col-xl-4 col-lg-4')\n",
    "len(tablets)\n"
   ]
  },
  {
   "cell_type": "markdown",
   "id": "533e3795-4b33-40b3-83cc-6448a1c0eff9",
   "metadata": {},
   "source": [
    "**NOTE:**  \n",
    "In Python's BeautifulSoup library, when you want to find or filter HTML elements by their CSS class, you use class_ instead of class. This is because class is a reserved keyword in Python, which means it is used to define classes in Python code. To avoid conflict with this reserved keyword, BeautifulSoup uses class_ as an attribute name."
   ]
  },
  {
   "cell_type": "code",
   "execution_count": 72,
   "id": "409ec2c5-930f-4de3-9378-3268756d6de0",
   "metadata": {},
   "outputs": [
    {
     "name": "stdout",
     "output_type": "stream",
     "text": [
      "21\n",
      "Lenovo IdeaTab\n",
      "IdeaTab A3500L\n",
      "Acer Iconia\n",
      "Galaxy Tab 3\n",
      "Iconia B1-730H...\n",
      "Memo Pad HD 7\n",
      "Asus MeMO Pad\n",
      "Amazon Kindle\n",
      "Galaxy Tab 3\n",
      "IdeaTab A8-50\n",
      "MeMO Pad 7\n",
      "IdeaTab A3500-...\n",
      "IdeaTab S5000\n",
      "Galaxy Tab 4\n",
      "Galaxy Tab\n",
      "MeMo PAD FHD 1...\n",
      "Galaxy Note\n",
      "Galaxy Note\n",
      "iPad Mini Reti...\n",
      "Galaxy Note 10...\n",
      "Apple iPad Air\n"
     ]
    }
   ],
   "source": [
    "names=soup.find_all('a',class_='title')\n",
    "print(len(names))\n",
    "for i in names:\n",
    "    print(i.text)"
   ]
  },
  {
   "cell_type": "code",
   "execution_count": 73,
   "id": "4a4a53cf-17fe-48c4-9c2d-6f12b18491a7",
   "metadata": {},
   "outputs": [
    {
     "name": "stdout",
     "output_type": "stream",
     "text": [
      "21\n",
      "$69.99\n",
      "$88.99\n",
      "$96.99\n",
      "$97.99\n",
      "$99.99\n",
      "$101.99\n",
      "$102.99\n",
      "$103.99\n",
      "$107.99\n",
      "$121.99\n",
      "$130.99\n",
      "$148.99\n",
      "$172.99\n",
      "$233.99\n",
      "$251.99\n",
      "$320.99\n",
      "$399.99\n",
      "$489.99\n",
      "$537.99\n",
      "$587.99\n",
      "$603.99\n"
     ]
    }
   ],
   "source": [
    "prices=soup.find_all('h4',class_='price float-end card-title pull-right')\n",
    "print(len(prices))\n",
    "for i in prices:\n",
    "    print(i.text)"
   ]
  },
  {
   "cell_type": "code",
   "execution_count": 74,
   "id": "f17ceca9-d833-4069-a99b-607662353a24",
   "metadata": {},
   "outputs": [
    {
     "name": "stdout",
     "output_type": "stream",
     "text": [
      "21\n",
      "7\" screen, Android\n",
      "Black, 7\" IPS, Quad-Core 1.2GHz, 8GB, Android 4.2\n",
      "7\" screen, Android, 16GB\n",
      "7\", 8GB, Wi-Fi, Android 4.2, White\n",
      "Black, 7\", 1.6GHz Dual-Core, 8GB, Android 4.4\n",
      "IPS, Dual-Core 1.2GHz, 8GB, Android 4.3\n",
      "7\" screen, Android, 8GB\n",
      "6\" screen, wifi\n",
      "7\", 8GB, Wi-Fi, Android 4.2, Yellow\n",
      "Blue, 8\" IPS, Quad-Core 1.3GHz, 16GB, Android 4.2\n",
      "White, 7\", Atom 1.2GHz, 8GB, Android 4.4\n",
      "Blue, 7\" IPS, Quad-Core 1.3GHz, 8GB, 3G, Android 4.2\n",
      "Silver, 7\" IPS, Quad-Core 1.2Ghz, 16GB, 3G, Android 4.2\n",
      "LTE (SM-T235), Quad-Core 1.2GHz, 8GB, Black\n",
      "16GB, White\n",
      "White, 10.1\" IPS, 1.6GHz, 2GB, 16GB, Android 4.2\n",
      "10.1\", 3G, Android 4.0, Garnet Red\n",
      "12.2\", 32GB, WiFi, Android 4.4, White\n",
      "Wi-Fi + Cellular, 32GB, Silver\n",
      "10.1\", 32GB, Black\n",
      "Wi-Fi, 64GB, Silver\n"
     ]
    }
   ],
   "source": [
    "descriptions=soup.find_all('p',class_=\"description card-text\")\n",
    "print(len(descriptions))\n",
    "for i in descriptions:\n",
    "    print(i.text)"
   ]
  },
  {
   "cell_type": "code",
   "execution_count": null,
   "id": "b9520e31-3ef8-4fc8-805f-30dfc851314a",
   "metadata": {},
   "outputs": [],
   "source": []
  },
  {
   "cell_type": "markdown",
   "id": "f0850c23-6b12-468b-864b-4c3172237a7e",
   "metadata": {},
   "source": [
    "## Considering the whole container and Converting collected data into Pandas Dataframe then export as .csv file"
   ]
  },
  {
   "cell_type": "markdown",
   "id": "a1595203-30fb-4d01-8882-f0ebd2165ea3",
   "metadata": {},
   "source": [
    "Reference Video: https://www.youtube.com/watch?v=RmPVICEWF4w&t=1680s"
   ]
  },
  {
   "cell_type": "markdown",
   "id": "12fd5a34-dcd8-4141-843c-4662a03a005f",
   "metadata": {},
   "source": [
    "**NOTE:**  \n",
    "If you use find_all() but try to access the result as if it were a single element (like you would with find()), you'll get a TypeError.  \n",
    "For example, attempting to call .text or access an attribute directly on the result of find_all() without first iterating over the list or indexing into it."
   ]
  },
  {
   "cell_type": "code",
   "execution_count": 75,
   "id": "0f6fa4c0-d9d3-4ca4-8c7e-b56c251755ab",
   "metadata": {},
   "outputs": [
    {
     "data": {
      "text/html": [
       "<div>\n",
       "<style scoped>\n",
       "    .dataframe tbody tr th:only-of-type {\n",
       "        vertical-align: middle;\n",
       "    }\n",
       "\n",
       "    .dataframe tbody tr th {\n",
       "        vertical-align: top;\n",
       "    }\n",
       "\n",
       "    .dataframe thead th {\n",
       "        text-align: right;\n",
       "    }\n",
       "</style>\n",
       "<table border=\"1\" class=\"dataframe\">\n",
       "  <thead>\n",
       "    <tr style=\"text-align: right;\">\n",
       "      <th></th>\n",
       "      <th>names</th>\n",
       "      <th>prices</th>\n",
       "      <th>descriptions</th>\n",
       "    </tr>\n",
       "  </thead>\n",
       "  <tbody>\n",
       "    <tr>\n",
       "      <th>0</th>\n",
       "      <td>Lenovo IdeaTab</td>\n",
       "      <td>$69.99</td>\n",
       "      <td>7\" screen, Android</td>\n",
       "    </tr>\n",
       "    <tr>\n",
       "      <th>1</th>\n",
       "      <td>IdeaTab A3500L</td>\n",
       "      <td>$88.99</td>\n",
       "      <td>Black, 7\" IPS, Quad-Core 1.2GHz, 8GB, Android 4.2</td>\n",
       "    </tr>\n",
       "    <tr>\n",
       "      <th>2</th>\n",
       "      <td>Acer Iconia</td>\n",
       "      <td>$96.99</td>\n",
       "      <td>7\" screen, Android, 16GB</td>\n",
       "    </tr>\n",
       "    <tr>\n",
       "      <th>3</th>\n",
       "      <td>Galaxy Tab 3</td>\n",
       "      <td>$97.99</td>\n",
       "      <td>7\", 8GB, Wi-Fi, Android 4.2, White</td>\n",
       "    </tr>\n",
       "    <tr>\n",
       "      <th>4</th>\n",
       "      <td>Iconia B1-730H...</td>\n",
       "      <td>$99.99</td>\n",
       "      <td>Black, 7\", 1.6GHz Dual-Core, 8GB, Android 4.4</td>\n",
       "    </tr>\n",
       "    <tr>\n",
       "      <th>5</th>\n",
       "      <td>Memo Pad HD 7</td>\n",
       "      <td>$101.99</td>\n",
       "      <td>IPS, Dual-Core 1.2GHz, 8GB, Android 4.3</td>\n",
       "    </tr>\n",
       "    <tr>\n",
       "      <th>6</th>\n",
       "      <td>Asus MeMO Pad</td>\n",
       "      <td>$102.99</td>\n",
       "      <td>7\" screen, Android, 8GB</td>\n",
       "    </tr>\n",
       "    <tr>\n",
       "      <th>7</th>\n",
       "      <td>Amazon Kindle</td>\n",
       "      <td>$103.99</td>\n",
       "      <td>6\" screen, wifi</td>\n",
       "    </tr>\n",
       "    <tr>\n",
       "      <th>8</th>\n",
       "      <td>Galaxy Tab 3</td>\n",
       "      <td>$107.99</td>\n",
       "      <td>7\", 8GB, Wi-Fi, Android 4.2, Yellow</td>\n",
       "    </tr>\n",
       "    <tr>\n",
       "      <th>9</th>\n",
       "      <td>IdeaTab A8-50</td>\n",
       "      <td>$121.99</td>\n",
       "      <td>Blue, 8\" IPS, Quad-Core 1.3GHz, 16GB, Android 4.2</td>\n",
       "    </tr>\n",
       "    <tr>\n",
       "      <th>10</th>\n",
       "      <td>MeMO Pad 7</td>\n",
       "      <td>$130.99</td>\n",
       "      <td>White, 7\", Atom 1.2GHz, 8GB, Android 4.4</td>\n",
       "    </tr>\n",
       "    <tr>\n",
       "      <th>11</th>\n",
       "      <td>IdeaTab A3500-...</td>\n",
       "      <td>$148.99</td>\n",
       "      <td>Blue, 7\" IPS, Quad-Core 1.3GHz, 8GB, 3G, Andro...</td>\n",
       "    </tr>\n",
       "    <tr>\n",
       "      <th>12</th>\n",
       "      <td>IdeaTab S5000</td>\n",
       "      <td>$172.99</td>\n",
       "      <td>Silver, 7\" IPS, Quad-Core 1.2Ghz, 16GB, 3G, An...</td>\n",
       "    </tr>\n",
       "    <tr>\n",
       "      <th>13</th>\n",
       "      <td>Galaxy Tab 4</td>\n",
       "      <td>$233.99</td>\n",
       "      <td>LTE (SM-T235), Quad-Core 1.2GHz, 8GB, Black</td>\n",
       "    </tr>\n",
       "    <tr>\n",
       "      <th>14</th>\n",
       "      <td>Galaxy Tab</td>\n",
       "      <td>$251.99</td>\n",
       "      <td>16GB, White</td>\n",
       "    </tr>\n",
       "    <tr>\n",
       "      <th>15</th>\n",
       "      <td>MeMo PAD FHD 1...</td>\n",
       "      <td>$320.99</td>\n",
       "      <td>White, 10.1\" IPS, 1.6GHz, 2GB, 16GB, Android 4.2</td>\n",
       "    </tr>\n",
       "    <tr>\n",
       "      <th>16</th>\n",
       "      <td>Galaxy Note</td>\n",
       "      <td>$399.99</td>\n",
       "      <td>10.1\", 3G, Android 4.0, Garnet Red</td>\n",
       "    </tr>\n",
       "    <tr>\n",
       "      <th>17</th>\n",
       "      <td>Galaxy Note</td>\n",
       "      <td>$489.99</td>\n",
       "      <td>12.2\", 32GB, WiFi, Android 4.4, White</td>\n",
       "    </tr>\n",
       "    <tr>\n",
       "      <th>18</th>\n",
       "      <td>iPad Mini Reti...</td>\n",
       "      <td>$537.99</td>\n",
       "      <td>Wi-Fi + Cellular, 32GB, Silver</td>\n",
       "    </tr>\n",
       "    <tr>\n",
       "      <th>19</th>\n",
       "      <td>Galaxy Note 10...</td>\n",
       "      <td>$587.99</td>\n",
       "      <td>10.1\", 32GB, Black</td>\n",
       "    </tr>\n",
       "    <tr>\n",
       "      <th>20</th>\n",
       "      <td>Apple iPad Air</td>\n",
       "      <td>$603.99</td>\n",
       "      <td>Wi-Fi, 64GB, Silver</td>\n",
       "    </tr>\n",
       "  </tbody>\n",
       "</table>\n",
       "</div>"
      ],
      "text/plain": [
       "                names   prices  \\\n",
       "0      Lenovo IdeaTab   $69.99   \n",
       "1      IdeaTab A3500L   $88.99   \n",
       "2         Acer Iconia   $96.99   \n",
       "3        Galaxy Tab 3   $97.99   \n",
       "4   Iconia B1-730H...   $99.99   \n",
       "5       Memo Pad HD 7  $101.99   \n",
       "6       Asus MeMO Pad  $102.99   \n",
       "7       Amazon Kindle  $103.99   \n",
       "8        Galaxy Tab 3  $107.99   \n",
       "9       IdeaTab A8-50  $121.99   \n",
       "10         MeMO Pad 7  $130.99   \n",
       "11  IdeaTab A3500-...  $148.99   \n",
       "12      IdeaTab S5000  $172.99   \n",
       "13       Galaxy Tab 4  $233.99   \n",
       "14         Galaxy Tab  $251.99   \n",
       "15  MeMo PAD FHD 1...  $320.99   \n",
       "16        Galaxy Note  $399.99   \n",
       "17        Galaxy Note  $489.99   \n",
       "18  iPad Mini Reti...  $537.99   \n",
       "19  Galaxy Note 10...  $587.99   \n",
       "20     Apple iPad Air  $603.99   \n",
       "\n",
       "                                         descriptions  \n",
       "0                                  7\" screen, Android  \n",
       "1   Black, 7\" IPS, Quad-Core 1.2GHz, 8GB, Android 4.2  \n",
       "2                            7\" screen, Android, 16GB  \n",
       "3                  7\", 8GB, Wi-Fi, Android 4.2, White  \n",
       "4       Black, 7\", 1.6GHz Dual-Core, 8GB, Android 4.4  \n",
       "5             IPS, Dual-Core 1.2GHz, 8GB, Android 4.3  \n",
       "6                             7\" screen, Android, 8GB  \n",
       "7                                     6\" screen, wifi  \n",
       "8                 7\", 8GB, Wi-Fi, Android 4.2, Yellow  \n",
       "9   Blue, 8\" IPS, Quad-Core 1.3GHz, 16GB, Android 4.2  \n",
       "10           White, 7\", Atom 1.2GHz, 8GB, Android 4.4  \n",
       "11  Blue, 7\" IPS, Quad-Core 1.3GHz, 8GB, 3G, Andro...  \n",
       "12  Silver, 7\" IPS, Quad-Core 1.2Ghz, 16GB, 3G, An...  \n",
       "13        LTE (SM-T235), Quad-Core 1.2GHz, 8GB, Black  \n",
       "14                                        16GB, White  \n",
       "15   White, 10.1\" IPS, 1.6GHz, 2GB, 16GB, Android 4.2  \n",
       "16                 10.1\", 3G, Android 4.0, Garnet Red  \n",
       "17              12.2\", 32GB, WiFi, Android 4.4, White  \n",
       "18                     Wi-Fi + Cellular, 32GB, Silver  \n",
       "19                                 10.1\", 32GB, Black  \n",
       "20                                Wi-Fi, 64GB, Silver  "
      ]
     },
     "execution_count": 75,
     "metadata": {},
     "output_type": "execute_result"
    }
   ],
   "source": [
    "names=[]\n",
    "prices=[]\n",
    "descriptions=[]\n",
    "\n",
    "\n",
    "for i in tablets:\n",
    "    names.append(i.find('a',class_='title').text)\n",
    "    prices.append(i.find('h4',class_='price float-end card-title pull-right').text)\n",
    "    descriptions.append(i.find('p',class_=\"description card-text\").text)\n",
    "\n",
    "\n",
    "df=pd.DataFrame({'names':names,'prices':prices,'descriptions':descriptions})\n",
    "df"
   ]
  },
  {
   "cell_type": "code",
   "execution_count": 76,
   "id": "31ec1bc4-9697-4785-bb1e-41c44a2a9934",
   "metadata": {},
   "outputs": [],
   "source": [
    "# Export the DataFrame to a CSV file:\n",
    "df.to_csv('tablets.csv', index=False)  # index=False to exclude the row numbers"
   ]
  },
  {
   "cell_type": "code",
   "execution_count": null,
   "id": "08b347d9-70a6-4bd7-a76d-34ce65534fb1",
   "metadata": {},
   "outputs": [],
   "source": []
  },
  {
   "cell_type": "markdown",
   "id": "12b0de45-9675-4ebf-ba24-b6194d498aae",
   "metadata": {},
   "source": [
    "# **BeautifulSoup vs Selenium:** for web scraping"
   ]
  },
  {
   "cell_type": "markdown",
   "id": "c192072c-e0bf-4681-a19a-11fe88ffa732",
   "metadata": {},
   "source": [
    "BeautifulSoup is ideal for simple, quick, and lightweight scraping tasks on static websites.\n",
    "Selenium is more powerful and flexible, suitable for scraping dynamic content, interacting with web elements, and automating complex tasks on the web."
   ]
  },
  {
   "cell_type": "code",
   "execution_count": null,
   "id": "abe35cf3-a5be-43f9-85f6-6957daae5cb1",
   "metadata": {},
   "outputs": [],
   "source": []
  }
 ],
 "metadata": {
  "kernelspec": {
   "display_name": "Python 3 (ipykernel)",
   "language": "python",
   "name": "python3"
  },
  "language_info": {
   "codemirror_mode": {
    "name": "ipython",
    "version": 3
   },
   "file_extension": ".py",
   "mimetype": "text/x-python",
   "name": "python",
   "nbconvert_exporter": "python",
   "pygments_lexer": "ipython3",
   "version": "3.11.7"
  },
  "widgets": {
   "application/vnd.jupyter.widget-state+json": {
    "state": {},
    "version_major": 2,
    "version_minor": 0
   }
  }
 },
 "nbformat": 4,
 "nbformat_minor": 5
}
